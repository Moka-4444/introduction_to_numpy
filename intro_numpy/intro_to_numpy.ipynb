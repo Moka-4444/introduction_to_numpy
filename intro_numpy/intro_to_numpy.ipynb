{
 "cells": [
  {
   "cell_type": "code",
   "execution_count": 1,
   "id": "43339996-3183-401c-9cdb-df02c57d3681",
   "metadata": {},
   "outputs": [],
   "source": [
    "import numpy as np"
   ]
  },
  {
   "cell_type": "code",
   "execution_count": 2,
   "id": "bd7606fa-4f09-415f-875f-e21ca7f37a6b",
   "metadata": {},
   "outputs": [
    {
     "data": {
      "text/plain": [
       "<module 'numpy' from '/home/codespace/.local/lib/python3.12/site-packages/numpy/__init__.py'>"
      ]
     },
     "execution_count": 2,
     "metadata": {},
     "output_type": "execute_result"
    }
   ],
   "source": [
    "np"
   ]
  },
  {
   "cell_type": "code",
   "execution_count": 3,
   "id": "1a1792bb-5bb7-4f53-a4be-2380db571c50",
   "metadata": {},
   "outputs": [
    {
     "data": {
      "text/plain": [
       "array([0., 0., 0., 0., 0., 0., 0., 0., 0., 0.])"
      ]
     },
     "execution_count": 3,
     "metadata": {},
     "output_type": "execute_result"
    }
   ],
   "source": [
    "np.zeros(10)"
   ]
  },
  {
   "cell_type": "code",
   "execution_count": 4,
   "id": "b0a3c2ef-f1d2-4242-9f5d-06372467fe4c",
   "metadata": {},
   "outputs": [
    {
     "data": {
      "text/plain": [
       "array([1., 1., 1., 1., 1., 1., 1., 1., 1., 1.])"
      ]
     },
     "execution_count": 4,
     "metadata": {},
     "output_type": "execute_result"
    }
   ],
   "source": [
    "np.ones(10)"
   ]
  },
  {
   "cell_type": "code",
   "execution_count": 5,
   "id": "77cd1ee2-b8c3-4819-bafa-f3b6a6c59f17",
   "metadata": {},
   "outputs": [
    {
     "data": {
      "text/plain": [
       "array([2.5, 2.5, 2.5, 2.5, 2.5, 2.5, 2.5, 2.5, 2.5, 2.5])"
      ]
     },
     "execution_count": 5,
     "metadata": {},
     "output_type": "execute_result"
    }
   ],
   "source": [
    "np.full(10,2.5)"
   ]
  },
  {
   "cell_type": "code",
   "execution_count": 6,
   "id": "b6909dd7-73b4-4067-9fa4-6d288a36183b",
   "metadata": {},
   "outputs": [
    {
     "data": {
      "text/plain": [
       "array([1, 2, 3, 4, 5])"
      ]
     },
     "execution_count": 6,
     "metadata": {},
     "output_type": "execute_result"
    }
   ],
   "source": [
    "a = np.array([1,2,3,4,5])\n",
    "a"
   ]
  },
  {
   "cell_type": "code",
   "execution_count": 7,
   "id": "d92d78df-d747-435d-81cd-9eb1dc9bde3a",
   "metadata": {},
   "outputs": [],
   "source": [
    "a[2] = 10"
   ]
  },
  {
   "cell_type": "code",
   "execution_count": 8,
   "id": "859a7712-7dcb-442a-a1a5-b7eb1c5dee15",
   "metadata": {},
   "outputs": [
    {
     "data": {
      "text/plain": [
       "np.int64(10)"
      ]
     },
     "execution_count": 8,
     "metadata": {},
     "output_type": "execute_result"
    }
   ],
   "source": [
    "a[2]"
   ]
  },
  {
   "cell_type": "code",
   "execution_count": 9,
   "id": "f8d6df4d-d9ba-40d9-b789-389ed47bacba",
   "metadata": {},
   "outputs": [
    {
     "data": {
      "text/plain": [
       "array([ 1,  2, 10,  4,  5])"
      ]
     },
     "execution_count": 9,
     "metadata": {},
     "output_type": "execute_result"
    }
   ],
   "source": [
    "a"
   ]
  },
  {
   "cell_type": "code",
   "execution_count": 10,
   "id": "be118f95-8578-425f-aa81-b2671722e64d",
   "metadata": {},
   "outputs": [
    {
     "data": {
      "text/plain": [
       "array([2, 3, 4, 5, 6, 7, 8, 9])"
      ]
     },
     "execution_count": 10,
     "metadata": {},
     "output_type": "execute_result"
    }
   ],
   "source": [
    "np.arange(2,10)"
   ]
  },
  {
   "cell_type": "code",
   "execution_count": 11,
   "id": "753fdfb6-0f16-45a1-b39d-516c28b04ba7",
   "metadata": {},
   "outputs": [
    {
     "data": {
      "text/plain": [
       "array([  0.,  10.,  20.,  30.,  40.,  50.,  60.,  70.,  80.,  90., 100.])"
      ]
     },
     "execution_count": 11,
     "metadata": {},
     "output_type": "execute_result"
    }
   ],
   "source": [
    "np.linspace(0,100,11)"
   ]
  },
  {
   "cell_type": "code",
   "execution_count": 12,
   "id": "22e80ce6-3266-4d0e-ae6b-c709d43ad7fd",
   "metadata": {},
   "outputs": [
    {
     "data": {
      "text/plain": [
       "array([[0., 0.],\n",
       "       [0., 0.],\n",
       "       [0., 0.],\n",
       "       [0., 0.],\n",
       "       [0., 0.]])"
      ]
     },
     "execution_count": 12,
     "metadata": {},
     "output_type": "execute_result"
    }
   ],
   "source": [
    "np.zeros((5,2))"
   ]
  },
  {
   "cell_type": "code",
   "execution_count": 13,
   "id": "6f318ddf-3339-4e11-8efc-8e68779fae71",
   "metadata": {},
   "outputs": [],
   "source": [
    "n = np.array([\n",
    "    [1,2,3,4],\n",
    "    [4,5,6,5],\n",
    "    [7,8,9,6]\n",
    "])"
   ]
  },
  {
   "cell_type": "code",
   "execution_count": 14,
   "id": "be4c0a06-a1f8-4638-97c2-35eb7191b6f1",
   "metadata": {},
   "outputs": [],
   "source": [
    "n[0,1] = 20"
   ]
  },
  {
   "cell_type": "code",
   "execution_count": 15,
   "id": "631fb2eb-5ada-44f9-ad6d-de7114c123df",
   "metadata": {},
   "outputs": [
    {
     "data": {
      "text/plain": [
       "array([[ 1, 20,  3,  4],\n",
       "       [ 4,  5,  6,  5],\n",
       "       [ 7,  8,  9,  6]])"
      ]
     },
     "execution_count": 15,
     "metadata": {},
     "output_type": "execute_result"
    }
   ],
   "source": [
    "n"
   ]
  },
  {
   "cell_type": "code",
   "execution_count": 16,
   "id": "3b9fb8d0-b490-462f-aa42-e953ef4107a3",
   "metadata": {},
   "outputs": [
    {
     "ename": "ValueError",
     "evalue": "could not broadcast input array from shape (3,) into shape (4,)",
     "output_type": "error",
     "traceback": [
      "\u001b[31m---------------------------------------------------------------------------\u001b[39m",
      "\u001b[31mValueError\u001b[39m                                Traceback (most recent call last)",
      "\u001b[36mCell\u001b[39m\u001b[36m \u001b[39m\u001b[32mIn[16]\u001b[39m\u001b[32m, line 1\u001b[39m\n\u001b[32m----> \u001b[39m\u001b[32m1\u001b[39m \u001b[43mn\u001b[49m\u001b[43m[\u001b[49m\u001b[32;43m2\u001b[39;49m\u001b[43m]\u001b[49m = [\u001b[32m1\u001b[39m,\u001b[32m1\u001b[39m,\u001b[32m1\u001b[39m]\n",
      "\u001b[31mValueError\u001b[39m: could not broadcast input array from shape (3,) into shape (4,)"
     ]
    }
   ],
   "source": [
    "n[2] = [1,1,1]"
   ]
  },
  {
   "cell_type": "code",
   "execution_count": 17,
   "id": "91d65bb1-637b-4be6-913b-691e2c0525d6",
   "metadata": {},
   "outputs": [
    {
     "data": {
      "text/plain": [
       "array([[ 1, 20,  3,  4],\n",
       "       [ 4,  5,  6,  5],\n",
       "       [ 7,  8,  9,  6]])"
      ]
     },
     "execution_count": 17,
     "metadata": {},
     "output_type": "execute_result"
    }
   ],
   "source": [
    "n"
   ]
  },
  {
   "cell_type": "code",
   "execution_count": 18,
   "id": "1f33ef02-13bc-4c0d-9778-3a78ec098528",
   "metadata": {},
   "outputs": [
    {
     "data": {
      "text/plain": [
       "array([20,  5,  8])"
      ]
     },
     "execution_count": 18,
     "metadata": {},
     "output_type": "execute_result"
    }
   ],
   "source": [
    "n[:,1]"
   ]
  },
  {
   "cell_type": "code",
   "execution_count": 19,
   "id": "74156816-1d83-47b9-b223-549b23f1d952",
   "metadata": {},
   "outputs": [],
   "source": [
    "n[:,2] = [1,2,3]"
   ]
  },
  {
   "cell_type": "code",
   "execution_count": 20,
   "id": "feae4d84-f9dc-4afc-be60-d6131e8eea87",
   "metadata": {},
   "outputs": [
    {
     "data": {
      "text/plain": [
       "array([[ 1, 20,  1,  4],\n",
       "       [ 4,  5,  2,  5],\n",
       "       [ 7,  8,  3,  6]])"
      ]
     },
     "execution_count": 20,
     "metadata": {},
     "output_type": "execute_result"
    }
   ],
   "source": [
    "n"
   ]
  },
  {
   "cell_type": "code",
   "execution_count": 21,
   "id": "fa34b221-d23d-492b-a84a-5d8681873d94",
   "metadata": {},
   "outputs": [
    {
     "data": {
      "text/plain": [
       "array([[43.59949021,  2.59262318],\n",
       "       [54.96624779, 43.53223926],\n",
       "       [42.03678021, 33.0334821 ],\n",
       "       [20.4648634 , 61.92709664],\n",
       "       [29.96546737, 26.68272751]])"
      ]
     },
     "execution_count": 21,
     "metadata": {},
     "output_type": "execute_result"
    }
   ],
   "source": [
    "np.random.seed(2)\n",
    "100*np.random.rand(5,2)"
   ]
  },
  {
   "cell_type": "code",
   "execution_count": 22,
   "id": "118c803d-74b9-495c-b1c2-c59935f0bcfb",
   "metadata": {},
   "outputs": [
    {
     "data": {
      "text/plain": [
       "array([[-0.41675785, -0.05626683],\n",
       "       [-2.1361961 ,  1.64027081],\n",
       "       [-1.79343559, -0.84174737],\n",
       "       [ 0.50288142, -1.24528809],\n",
       "       [-1.05795222, -0.90900761]])"
      ]
     },
     "execution_count": 22,
     "metadata": {},
     "output_type": "execute_result"
    }
   ],
   "source": [
    "np.random.seed(2)\n",
    "np.random.randn(5,2)"
   ]
  },
  {
   "cell_type": "code",
   "execution_count": 23,
   "id": "31823995-261e-4d63-ba09-07571911855b",
   "metadata": {},
   "outputs": [
    {
     "data": {
      "text/plain": [
       "array([[40, 15],\n",
       "       [72, 22],\n",
       "       [43, 82],\n",
       "       [75,  7],\n",
       "       [34, 49]])"
      ]
     },
     "execution_count": 23,
     "metadata": {},
     "output_type": "execute_result"
    }
   ],
   "source": [
    "np.random.seed(2)\n",
    "np.random.randint(low=0,high=100,size=(5,2))"
   ]
  },
  {
   "cell_type": "code",
   "execution_count": 24,
   "id": "81321c8b-49af-45ec-a983-cfdb05d1beab",
   "metadata": {},
   "outputs": [
    {
     "data": {
      "text/plain": [
       "array([0, 1, 2, 3, 4])"
      ]
     },
     "execution_count": 24,
     "metadata": {},
     "output_type": "execute_result"
    }
   ],
   "source": [
    "a = np.arange(5)\n",
    "a"
   ]
  },
  {
   "cell_type": "code",
   "execution_count": 25,
   "id": "eefee5af-1ca8-40f4-aedd-5760edc8735d",
   "metadata": {},
   "outputs": [],
   "source": [
    "b=10+(a*2)**2"
   ]
  },
  {
   "cell_type": "code",
   "execution_count": 26,
   "id": "d31a2d23-5958-4491-b5ea-7a2f267c0cec",
   "metadata": {},
   "outputs": [
    {
     "data": {
      "text/plain": [
       "array([10, 14, 26, 46, 74])"
      ]
     },
     "execution_count": 26,
     "metadata": {},
     "output_type": "execute_result"
    }
   ],
   "source": [
    "b"
   ]
  },
  {
   "cell_type": "code",
   "execution_count": 27,
   "id": "fd988bd0-dfa0-4fd2-96c8-45489db473ff",
   "metadata": {},
   "outputs": [
    {
     "data": {
      "text/plain": [
       "array([10, 15, 28, 49, 78])"
      ]
     },
     "execution_count": 27,
     "metadata": {},
     "output_type": "execute_result"
    }
   ],
   "source": [
    "a+b"
   ]
  },
  {
   "cell_type": "code",
   "execution_count": 28,
   "id": "4536ce9a-c77c-4cbe-b868-116872592f49",
   "metadata": {},
   "outputs": [
    {
     "data": {
      "text/plain": [
       "array([0, 1, 2, 3, 4])"
      ]
     },
     "execution_count": 28,
     "metadata": {},
     "output_type": "execute_result"
    }
   ],
   "source": [
    "a"
   ]
  },
  {
   "cell_type": "code",
   "execution_count": 29,
   "id": "44c61447-dacf-47c4-87cf-ac151c1a17f2",
   "metadata": {},
   "outputs": [
    {
     "data": {
      "text/plain": [
       "array([False, False,  True,  True,  True])"
      ]
     },
     "execution_count": 29,
     "metadata": {},
     "output_type": "execute_result"
    }
   ],
   "source": [
    "a>=2"
   ]
  },
  {
   "cell_type": "code",
   "execution_count": 30,
   "id": "a7f8b0a2-ef88-41f5-82f9-7b3c8f9dd2a3",
   "metadata": {},
   "outputs": [
    {
     "data": {
      "text/plain": [
       "array([10, 14, 26, 46, 74])"
      ]
     },
     "execution_count": 30,
     "metadata": {},
     "output_type": "execute_result"
    }
   ],
   "source": [
    "b"
   ]
  },
  {
   "cell_type": "code",
   "execution_count": 31,
   "id": "d491fd00-6fc1-43d5-9e9b-c9140c652797",
   "metadata": {},
   "outputs": [
    {
     "data": {
      "text/plain": [
       "array([False, False, False, False, False])"
      ]
     },
     "execution_count": 31,
     "metadata": {},
     "output_type": "execute_result"
    }
   ],
   "source": [
    "a>b"
   ]
  },
  {
   "cell_type": "code",
   "execution_count": 32,
   "id": "39be68aa-1626-4d8f-bc46-0ad956506894",
   "metadata": {},
   "outputs": [
    {
     "data": {
      "text/plain": [
       "array([0, 1, 2, 3, 4])"
      ]
     },
     "execution_count": 32,
     "metadata": {},
     "output_type": "execute_result"
    }
   ],
   "source": [
    "a[a<b]"
   ]
  },
  {
   "cell_type": "code",
   "execution_count": 33,
   "id": "391f917d-1f42-46b2-94de-e72c17095b11",
   "metadata": {},
   "outputs": [
    {
     "data": {
      "text/plain": [
       "array([0, 1, 2, 3, 4])"
      ]
     },
     "execution_count": 33,
     "metadata": {},
     "output_type": "execute_result"
    }
   ],
   "source": [
    "a"
   ]
  },
  {
   "cell_type": "code",
   "execution_count": 34,
   "id": "546e6ea4-3c61-4bfa-8d81-4d214dd87ac6",
   "metadata": {},
   "outputs": [
    {
     "data": {
      "text/plain": [
       "np.int64(0)"
      ]
     },
     "execution_count": 34,
     "metadata": {},
     "output_type": "execute_result"
    }
   ],
   "source": [
    "a.min()"
   ]
  },
  {
   "cell_type": "code",
   "execution_count": 35,
   "id": "1d7954fb-2368-4834-90e4-c35f2306beef",
   "metadata": {},
   "outputs": [
    {
     "data": {
      "text/plain": [
       "np.int64(4)"
      ]
     },
     "execution_count": 35,
     "metadata": {},
     "output_type": "execute_result"
    }
   ],
   "source": [
    "a.max()"
   ]
  },
  {
   "cell_type": "code",
   "execution_count": 36,
   "id": "31508cbe-2e38-4abe-adc8-4ddd501d60f3",
   "metadata": {},
   "outputs": [
    {
     "data": {
      "text/plain": [
       "np.int64(10)"
      ]
     },
     "execution_count": 36,
     "metadata": {},
     "output_type": "execute_result"
    }
   ],
   "source": [
    "a.sum()"
   ]
  },
  {
   "cell_type": "code",
   "execution_count": 37,
   "id": "0d793be5-ff84-4647-b22d-36d3d2a4a863",
   "metadata": {},
   "outputs": [
    {
     "data": {
      "text/plain": [
       "np.float64(2.0)"
      ]
     },
     "execution_count": 37,
     "metadata": {},
     "output_type": "execute_result"
    }
   ],
   "source": [
    "a.mean()"
   ]
  },
  {
   "cell_type": "code",
   "execution_count": 38,
   "id": "c2f9b196-e1c6-49c3-bfee-d4a8cdca936e",
   "metadata": {},
   "outputs": [
    {
     "data": {
      "text/plain": [
       "np.float64(1.4142135623730951)"
      ]
     },
     "execution_count": 38,
     "metadata": {},
     "output_type": "execute_result"
    }
   ],
   "source": [
    "a.std()"
   ]
  },
  {
   "cell_type": "code",
   "execution_count": 39,
   "id": "1ea7ef7e-9abe-4568-b242-319b8ca16849",
   "metadata": {},
   "outputs": [],
   "source": [
    "u = np.array([2,4,5,6])"
   ]
  },
  {
   "cell_type": "code",
   "execution_count": 40,
   "id": "a3d4f4aa-a497-483c-9645-7243995f97bc",
   "metadata": {},
   "outputs": [
    {
     "data": {
      "text/plain": [
       "array([2, 4, 5, 6])"
      ]
     },
     "execution_count": 40,
     "metadata": {},
     "output_type": "execute_result"
    }
   ],
   "source": [
    "u"
   ]
  },
  {
   "cell_type": "code",
   "execution_count": 41,
   "id": "5d0ece5f-52d7-4a1f-838d-e2e3c44229bf",
   "metadata": {},
   "outputs": [],
   "source": [
    "v = np.array([1,1,1,1])"
   ]
  },
  {
   "cell_type": "code",
   "execution_count": 42,
   "id": "1860de49-e495-43ba-997e-027011ea22df",
   "metadata": {},
   "outputs": [
    {
     "data": {
      "text/plain": [
       "array([1, 1, 1, 1])"
      ]
     },
     "execution_count": 42,
     "metadata": {},
     "output_type": "execute_result"
    }
   ],
   "source": [
    "v"
   ]
  },
  {
   "cell_type": "code",
   "execution_count": 43,
   "id": "e08345c4-5b9e-433a-b201-3beb0569c35f",
   "metadata": {},
   "outputs": [
    {
     "data": {
      "text/plain": [
       "array([3, 5, 6, 7])"
      ]
     },
     "execution_count": 43,
     "metadata": {},
     "output_type": "execute_result"
    }
   ],
   "source": [
    "u+v"
   ]
  },
  {
   "cell_type": "code",
   "execution_count": 44,
   "id": "18fe1dcf-9d49-4ae8-b413-be95127f286b",
   "metadata": {},
   "outputs": [
    {
     "data": {
      "text/plain": [
       "(4,)"
      ]
     },
     "execution_count": 44,
     "metadata": {},
     "output_type": "execute_result"
    }
   ],
   "source": [
    "u.shape"
   ]
  },
  {
   "cell_type": "code",
   "execution_count": 45,
   "id": "b04ae4b7-adf7-405f-8f7a-f629e4b1f104",
   "metadata": {},
   "outputs": [],
   "source": [
    "def Vector_Vector_multiplication(u,v):\n",
    "    assert u.shape[0] == v.shape[0]\n",
    "\n",
    "    n = u.shape[0]\n",
    "    result = 0.0\n",
    "\n",
    "    for i in range(n):\n",
    "        result = result + u[i]*v[i]\n",
    "        \n",
    "    return result "
   ]
  },
  {
   "cell_type": "code",
   "execution_count": 46,
   "id": "5a990a8e-0d37-4c7c-99ed-88c0ecf65c4e",
   "metadata": {},
   "outputs": [
    {
     "data": {
      "text/plain": [
       "np.float64(17.0)"
      ]
     },
     "execution_count": 46,
     "metadata": {},
     "output_type": "execute_result"
    }
   ],
   "source": [
    "Vector_Vector_multiplication(u,v)"
   ]
  },
  {
   "cell_type": "code",
   "execution_count": 47,
   "id": "61d38266-f5fc-4f6f-904a-20514ffc0048",
   "metadata": {},
   "outputs": [
    {
     "data": {
      "text/plain": [
       "np.int64(17)"
      ]
     },
     "execution_count": 47,
     "metadata": {},
     "output_type": "execute_result"
    }
   ],
   "source": [
    "u.dot(v)"
   ]
  },
  {
   "cell_type": "code",
   "execution_count": 48,
   "id": "0fcffd27-4c9c-4251-bddb-79584ba05abb",
   "metadata": {},
   "outputs": [],
   "source": [
    "def Matrix_Vector_multiplication(n,v):\n",
    "    assert n.shape[1] == v.shape[0]\n",
    "\n",
    "    num_rows = n.shape[0]\n",
    "    result = np.zeros(num_rows)\n",
    "\n",
    "    for i in range(num_rows):\n",
    "        result[i] = np.dot(n[i],v)\n",
    "\n",
    "    \n",
    "    return result                           "
   ]
  },
  {
   "cell_type": "code",
   "execution_count": 49,
   "id": "e736ff02-45c4-43e4-8151-2b27fbc533e9",
   "metadata": {},
   "outputs": [
    {
     "data": {
      "text/plain": [
       "array([26., 16., 24.])"
      ]
     },
     "execution_count": 49,
     "metadata": {},
     "output_type": "execute_result"
    }
   ],
   "source": [
    "Matrix_Vector_multiplication(n,v)"
   ]
  },
  {
   "cell_type": "code",
   "execution_count": 50,
   "id": "95d39519-adc7-484e-ad6b-34d17fe86933",
   "metadata": {},
   "outputs": [],
   "source": [
    "t = np.array([\n",
    "    [1,2,3],\n",
    "    [4,5,6],\n",
    "    [6,7,8],\n",
    "    [1,1,2]\n",
    "])"
   ]
  },
  {
   "cell_type": "code",
   "execution_count": 51,
   "id": "4a00ff68-29b6-401a-93ad-4505fc0a2b8a",
   "metadata": {},
   "outputs": [
    {
     "data": {
      "text/plain": [
       "array([[1, 2, 3],\n",
       "       [4, 5, 6],\n",
       "       [6, 7, 8],\n",
       "       [1, 1, 2]])"
      ]
     },
     "execution_count": 51,
     "metadata": {},
     "output_type": "execute_result"
    }
   ],
   "source": [
    "t"
   ]
  },
  {
   "cell_type": "code",
   "execution_count": 52,
   "id": "e40638de-1764-4c79-8b5b-3c39622d590c",
   "metadata": {},
   "outputs": [],
   "source": [
    "def matrix_matrix_multiplication(n,t):\n",
    "    assert n.shape[1] == t.shape[0]\n",
    "\n",
    "    num_rows = n.shape[0]\n",
    "    num_cols = t.shape[1]\n",
    "\n",
    "    result = np.zeros((num_rows,num_cols))\n",
    "\n",
    "    for i in range(num_cols):\n",
    "        vi = t[:,i]\n",
    "        nvi = Matrix_Vector_multiplication(n,vi)\n",
    "        result[:,i] = nvi\n",
    "\n",
    "    return result"
   ]
  },
  {
   "cell_type": "code",
   "execution_count": 53,
   "id": "a0c5538a-239d-4d14-bba6-eef5db7de96d",
   "metadata": {},
   "outputs": [
    {
     "data": {
      "text/plain": [
       "array([[ 91., 113., 139.],\n",
       "       [ 41.,  52.,  68.],\n",
       "       [ 63.,  81., 105.]])"
      ]
     },
     "execution_count": 53,
     "metadata": {},
     "output_type": "execute_result"
    }
   ],
   "source": [
    "matrix_matrix_multiplication(n,t)"
   ]
  },
  {
   "cell_type": "code",
   "execution_count": 54,
   "id": "c218e89e-edb2-46ab-9796-09c8402ddcd2",
   "metadata": {},
   "outputs": [
    {
     "data": {
      "text/plain": [
       "array([[ 91, 113, 139],\n",
       "       [ 41,  52,  68],\n",
       "       [ 63,  81, 105]])"
      ]
     },
     "execution_count": 54,
     "metadata": {},
     "output_type": "execute_result"
    }
   ],
   "source": [
    "n.dot(t)"
   ]
  },
  {
   "cell_type": "code",
   "execution_count": 55,
   "id": "23ac2b08-8704-4cdc-bcaa-c395e5c6cebf",
   "metadata": {},
   "outputs": [],
   "source": [
    "I = np.eye(3)"
   ]
  },
  {
   "cell_type": "code",
   "execution_count": 56,
   "id": "30f6d2c1-3382-431f-acf6-4b34719ca726",
   "metadata": {},
   "outputs": [
    {
     "data": {
      "text/plain": [
       "array([[1., 0., 0.],\n",
       "       [0., 1., 0.],\n",
       "       [0., 0., 1.]])"
      ]
     },
     "execution_count": 56,
     "metadata": {},
     "output_type": "execute_result"
    }
   ],
   "source": [
    "I"
   ]
  },
  {
   "cell_type": "code",
   "execution_count": 57,
   "id": "41d023a2-8f80-4918-88be-5b97b49a34bc",
   "metadata": {},
   "outputs": [
    {
     "data": {
      "text/plain": [
       "array([[1, 2, 3],\n",
       "       [4, 5, 6],\n",
       "       [6, 7, 8],\n",
       "       [1, 1, 2]])"
      ]
     },
     "execution_count": 57,
     "metadata": {},
     "output_type": "execute_result"
    }
   ],
   "source": [
    "t"
   ]
  },
  {
   "cell_type": "code",
   "execution_count": 58,
   "id": "06972e6c-b898-4bd4-98b8-9c2e5eec7099",
   "metadata": {},
   "outputs": [
    {
     "data": {
      "text/plain": [
       "array([[1., 2., 3.],\n",
       "       [4., 5., 6.],\n",
       "       [6., 7., 8.],\n",
       "       [1., 1., 2.]])"
      ]
     },
     "execution_count": 58,
     "metadata": {},
     "output_type": "execute_result"
    }
   ],
   "source": [
    "t.dot(I)"
   ]
  },
  {
   "cell_type": "code",
   "execution_count": 59,
   "id": "cd493a1c-e0ab-4db1-9fa2-e3fe3fb99031",
   "metadata": {},
   "outputs": [
    {
     "data": {
      "text/plain": [
       "array([[1, 2, 3],\n",
       "       [4, 5, 6],\n",
       "       [6, 7, 8]])"
      ]
     },
     "execution_count": 59,
     "metadata": {},
     "output_type": "execute_result"
    }
   ],
   "source": [
    "vs = t[[0,1,2]]\n",
    "vs"
   ]
  },
  {
   "cell_type": "code",
   "execution_count": 60,
   "id": "68e84359-7725-4d76-bca0-c7fe97d51ccb",
   "metadata": {},
   "outputs": [
    {
     "data": {
      "text/plain": [
       "array([[ 4.50359963e+14, -1.12589991e+15,  6.75539944e+14],\n",
       "       [-9.00719925e+14,  2.25179981e+15, -1.35107989e+15],\n",
       "       [ 4.50359963e+14, -1.12589991e+15,  6.75539944e+14]])"
      ]
     },
     "execution_count": 60,
     "metadata": {},
     "output_type": "execute_result"
    }
   ],
   "source": [
    "vs_inv = np.linalg.inv(vs)\n",
    "vs_inv"
   ]
  },
  {
   "cell_type": "code",
   "execution_count": 62,
   "id": "133a492e-138f-425a-98e4-ee70eff3d528",
   "metadata": {},
   "outputs": [
    {
     "data": {
      "text/plain": [
       "array([[ 0.25 , -0.125, -1.   ],\n",
       "       [ 1.5  ,  2.25 ,  2.   ],\n",
       "       [ 0.   ,  0.75 ,  1.   ]])"
      ]
     },
     "execution_count": 62,
     "metadata": {},
     "output_type": "execute_result"
    }
   ],
   "source": [
    "vs_inv.dot(vs)"
   ]
  },
  {
   "cell_type": "code",
   "execution_count": null,
   "id": "f60b5904-5ee3-4c2d-b1c5-4d1a310edb7f",
   "metadata": {},
   "outputs": [],
   "source": []
  }
 ],
 "metadata": {
  "kernelspec": {
   "display_name": "Python 3 (ipykernel)",
   "language": "python",
   "name": "python3"
  },
  "language_info": {
   "codemirror_mode": {
    "name": "ipython",
    "version": 3
   },
   "file_extension": ".py",
   "mimetype": "text/x-python",
   "name": "python",
   "nbconvert_exporter": "python",
   "pygments_lexer": "ipython3",
   "version": "3.12.1"
  }
 },
 "nbformat": 4,
 "nbformat_minor": 5
}
